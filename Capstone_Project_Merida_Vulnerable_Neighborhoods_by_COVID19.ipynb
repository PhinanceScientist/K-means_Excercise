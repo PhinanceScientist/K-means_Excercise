{
 "cells": [
  {
   "cell_type": "markdown",
   "metadata": {},
   "source": [
    "<a href=\"https://github.com/PhinanceScientist\"><img src = \"https://i.ibb.co/NLfc0SV/Deveaner.png\" width = 100> </a>\n",
    "<h1 align=center><font size = 5>Merida's Downtown Neighborhoods Clustered by Vulnerability due to the COVID-19 Outbreak</font></h1>"
   ]
  },
  {
   "cell_type": "markdown",
   "metadata": {},
   "source": [
    "## Introduction\n",
    "\n",
    "For this project I will be using some prepared data from a postal public web page due to the lack of postal and geodata from Mérida, Yucatán in México. The goal is to obtain some relevant information from the vulnerability of neighborhoods from Merida's Downtown based on the information retrieved by the Foursquare API. k-means will be used to group the neighborhoods and finally I will use the Folium library to visualize the results.\n",
    "This approach is an attempt for visualizing the main neighborhoods inside Merida's DownTown in order to cluster the most vulnerable places as the COVID-19 is more likely to spread on crowded places such as fitness centers, cinemas and malls.\n",
    "\n",
    "Please do notice that if you want to render this Jupyter notebook (show the folium maps) you can use this link https://nbviewer.jupyter.org/"
   ]
  },
  {
   "cell_type": "markdown",
   "metadata": {},
   "source": [
    "## Data\n",
    "\n",
    "The data needed for this project  can be found on this local postal services web page called <a href=\"https://www.heraldo.com.mx/\"> Heraldo.com.mx </a> where we can find several postal codes from México. In this case we will be foccused on <a href=\"https://www.heraldo.com.mx/yucatan/merida/merida/\">Mérida's postal codes</a>.<br>\n",
    "As for the CSV file used it is based on the first 100 postal codes from Mérida (ascending order starting from the downtown area as common knowledge) and then linked to its own Latitude and Longitude as a result of a Google Maps Search for each one.<br>\n",
    "The Foursquare's API will be used to retrieve information of the venue on each neighborhood, type of each venue will be our goal to determine how crowded they are and therefore the whole vulenarability of the surrounding area.  "
   ]
  },
  {
   "cell_type": "markdown",
   "metadata": {},
   "source": [
    "## Bibliografy\n",
    "https://molekule.science/places-to-avoid-flu-virus/ <br>\n",
    "https://www.babymed.com/health-news/8-public-places-avoid-during-cold-and-flu-season <br>\n",
    "https://www.nhs.uk/conditions/coronavirus-covid-19/ <br>\n",
    "https://www.health.gov.au/news/health-alerts/novel-coronavirus-2019-ncov-health-alert/what-you-need-to-know-about-coronavirus-covid-19 <br>\n",
    "https://www.who.int/emergencies/diseases/novel-coronavirus-2019/advice-for-public <br>\n",
    "https://www.healthline.com/health-news/public-places-and-the-coronavirus-what-to-know#Coronavirus-can-spread-through-contact-with-contaminated-surfaces,-too <br>\n",
    "https://www.cdc.gov/coronavirus/2019-ncov/prepare/transmission.html <br>\n",
    "https://www.bbc.com/future/article/20200317-covid-19-how-long-does-the-coronavirus-last-on-surfaces <br>\n"
   ]
  },
  {
   "cell_type": "markdown",
   "metadata": {},
   "source": [
    "This notebook was <b>Part 1</b> of the Final assignment from the week 4 of the Applied Data Science Capstone from IBM Professional Certificate made by <a href='https://www.linkedin.com/in/novelo-luis/'> Luis Novelo </a>"
   ]
  },
  {
   "cell_type": "markdown",
   "metadata": {},
   "source": [
    "***\n"
   ]
  },
  {
   "cell_type": "markdown",
   "metadata": {},
   "source": [
    "***"
   ]
  }
 ],
 "metadata": {
  "kernelspec": {
   "display_name": "Python 3.6",
   "language": "python",
   "name": "python3"
  },
  "language_info": {
   "codemirror_mode": {
    "name": "ipython",
    "version": 3
   },
   "file_extension": ".py",
   "mimetype": "text/x-python",
   "name": "python",
   "nbconvert_exporter": "python",
   "pygments_lexer": "ipython3",
   "version": "3.6.9"
  }
 },
 "nbformat": 4,
 "nbformat_minor": 1
}
